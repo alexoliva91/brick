{
 "cells": [
  {
   "cell_type": "markdown",
   "metadata": {},
   "source": [
    "# Tutorial\n",
    "\n",
    "## ${}^{12}\\rm{C}(p,\\gamma)$\n",
    "\n",
    "This notebook will demonstrate how to use **B**ayesian **$R$**-Matrix **I**nference **C**ode **K**it (BRICK) to:\n",
    "* Construct a Python object that enables the calling of AZURE2 with an arbitrary input vector $\\theta$.\n",
    "* Set up priors for each of the sampled parameters and a corresponding prior ($\\ln\\Pi$) function.\n",
    "* Set up a likelihood ($\\ln\\mathcal{L}$) function.\n",
    "* Construct a posterior ($\\ln\\mathcal{P}$) function from the likelihood and prior functions.\n",
    "* Sample the posterior ($\\ln\\mathcal{P}$) function with emcee.\n",
    "* Preview the results."
   ]
  },
  {
   "cell_type": "code",
   "execution_count": 1,
   "metadata": {},
   "outputs": [],
   "source": [
    "import emcee\n",
    "import numpy as np\n",
    "import matplotlib.pyplot as plt\n",
    "\n",
    "from brick.azr import AZR"
   ]
  },
  {
   "cell_type": "markdown",
   "metadata": {},
   "source": [
    "So, your savvy with AZURE2, you've set up your $R$-matrix analysis of the data in AZURE2, and you have an input file...\n",
    "\n",
    "(If any of those statements are not true, get familiar with AZURE2, read the manual, and return here. BRICK's main component is an interface layer to AZURE2. No $R$-matrix calculations are performed/written inside BRICK. Those are obtained by passing parameters to AZURE2, treating it as a \"black box\". The goal is **not** to provide the functionality to construct an $R$-matrix model. The idea is that with an $R$-matrix model already constructed in AZURE2, one can now sample what was previously fit/optimized.)\n",
    "\n",
    "Now, let's take that input file and construct an object that allows us to call AZURE2 with a given $\\theta$."
   ]
  },
  {
   "cell_type": "code",
   "execution_count": 2,
   "metadata": {},
   "outputs": [],
   "source": [
    "azr = AZR('12C+p.azr')"
   ]
  },
  {
   "cell_type": "markdown",
   "metadata": {},
   "source": [
    "That's it. All of the relevant pieces of the analysis you've constructed inside the AZURE2 GUI will be inferred – varied parameters, default values, normalization factors, data segments, segments without data, etc.\n",
    "\n",
    "Let's take a look."
   ]
  },
  {
   "cell_type": "code",
   "execution_count": 32,
   "metadata": {},
   "outputs": [
    {
     "name": "stdout",
     "output_type": "stream",
     "text": [
      "There are 6 sampled parameters.\n"
     ]
    }
   ],
   "source": [
    "# How many parameters are going to be sampled?\n",
    "nd = azr.config.nd\n",
    "print(f'There are {nd} sampled parameters.')"
   ]
  },
  {
   "cell_type": "code",
   "execution_count": 33,
   "metadata": {},
   "outputs": [
    {
     "data": {
      "text/plain": [
       "['$C_{1,1}^{(-0.5)}$',\n",
       " '$E_{1,1}^{(+0.5)}$',\n",
       " '$\\\\Gamma_{1,1}^{(+0.5)}$',\n",
       " '$\\\\Gamma_{1,2}^{(+0.5)}$',\n",
       " '$n_{0}$',\n",
       " '$n_{1}$']"
      ]
     },
     "execution_count": 33,
     "metadata": {},
     "output_type": "execute_result"
    }
   ],
   "source": [
    "# What labels have been assigned to those parameters?\n",
    "azr.config.labels"
   ]
  },
  {
   "cell_type": "markdown",
   "metadata": {},
   "source": [
    "We have an ANC, a level energy, two partial widths, and a couple normalization factors. Let's choose some priors. We will construct a list of distributions using SciPy."
   ]
  },
  {
   "cell_type": "code",
   "execution_count": 34,
   "metadata": {},
   "outputs": [],
   "source": [
    "from scipy import stats"
   ]
  },
  {
   "cell_type": "code",
   "execution_count": 35,
   "metadata": {},
   "outputs": [],
   "source": [
    "priors = [\n",
    "    stats.uniform(0, 5),\n",
    "    stats.uniform(1, 5),\n",
    "    stats.uniform(0, 50000),\n",
    "    stats.uniform(-100, 200),\n",
    "    stats.lognorm(0.1),\n",
    "    stats.lognorm(0.1)\n",
    "]"
   ]
  },
  {
   "cell_type": "markdown",
   "metadata": {},
   "source": [
    "Now, we want to evaluate the prior (or log(prior)). We have to sum the logpdf of each distribution"
   ]
  },
  {
   "cell_type": "code",
   "execution_count": 36,
   "metadata": {},
   "outputs": [],
   "source": [
    "def lnPi(theta):\n",
    "    return np.sum([pi.logpdf(t) for (pi, t) in zip(priors, theta)])"
   ]
  },
  {
   "cell_type": "markdown",
   "metadata": {},
   "source": [
    "So far, so good. Next, we'll set up the liklihood (or log(likelihood)) function. We'll assume that the data are random draws from uncorrelated Gaussian distributions centered at the $R$-matrix predictions. So, we have\n",
    "$$\n",
    "\\mathcal{L} = \\prod_i \\frac{1}{\\sqrt{2\\pi}\\sigma_i} e^{-\\frac{1}{2}\\left(\\frac{y_i-\\mu_i}{\\sigma_i}\\right)^2}~,\n",
    "$$\n",
    "where $y_i$ and $\\sigma_i$ are the data points and uncertainties, respectively, and $\\mu_i$ is the physical model prediction.\n",
    "\n",
    "We work with $\\ln{\\mathcal{L}}$ to avoid the numerical difficulties of dealing with extremely small values. The product then becomes a sum,\n",
    "$$\n",
    "\\ln{\\mathcal{L}} = \\sum_i \\left[-\\ln{(\\sqrt{2\\pi}\\sigma_i)} - \\frac{1}{2}\\left(\\frac{y_i-\\mu_i}{\\sigma_i}\\right)^2\\right]\n",
    "$$\n",
    "\n",
    "First, we'll read in $y$."
   ]
  },
  {
   "cell_type": "code",
   "execution_count": 37,
   "metadata": {},
   "outputs": [],
   "source": [
    "output_files = np.unique([seg.output_filename for seg in azr.config.data.segments])\n",
    "data = np.vstack([np.loadtxt('output/' + of) for of in output_files])"
   ]
  },
  {
   "cell_type": "code",
   "execution_count": 38,
   "metadata": {},
   "outputs": [
    {
     "data": {
      "text/plain": [
       "(242, 9)"
      ]
     },
     "execution_count": 38,
     "metadata": {},
     "output_type": "execute_result"
    }
   ],
   "source": [
    "data.shape"
   ]
  },
  {
   "cell_type": "markdown",
   "metadata": {},
   "source": [
    "According to the extremely well-document AZURE2 manual, the 6th and 7th columns are the cross sections and uncertainties, respectively. (Beware, whatever normalization factor is entered into the input file has been applied to this data. We're grabbing it here because it's conveniently already in the center-of-mass frame.)"
   ]
  },
  {
   "cell_type": "code",
   "execution_count": 39,
   "metadata": {},
   "outputs": [],
   "source": [
    "x = data[:, 0] # COM energies\n",
    "y_default_norm = data[:, 5] # cross sections * f\n",
    "sigma_default_norm = data[:, 6] # cross section uncertainties * f"
   ]
  },
  {
   "cell_type": "markdown",
   "metadata": {},
   "source": [
    "Let's take a look at the data. Not really relevant, but everyone likes plots."
   ]
  },
  {
   "cell_type": "code",
   "execution_count": 40,
   "metadata": {},
   "outputs": [
    {
     "data": {
      "image/png": "[encoded data removed]",
      "text/plain": [
       "<Figure size 432x288 with 1 Axes>"
      ]
     },
     "metadata": {
      "needs_background": "light"
     },
     "output_type": "display_data"
    }
   ],
   "source": [
    "fig, ax = plt.subplots()\n",
    "ax.errorbar(x, y_default_norm, yerr=sigma_default_norm, linestyle='', capsize=2)\n",
    "ax.set_yscale('log')\n",
    "ax.set_xlabel('$E$ (MeV, COM)')\n",
    "ax.set_ylabel('$\\sigma$ (b or b/sr)');"
   ]
  },
  {
   "cell_type": "markdown",
   "metadata": {},
   "source": [
    "Now we can write the log(likelihood) function."
   ]
  },
  {
   "cell_type": "code",
   "execution_count": 41,
   "metadata": {},
   "outputs": [],
   "source": [
    "# To calculate the likelihood, we generate the prediction at theta and compare\n",
    "# it to data. (Assumes data uncertainties are Gaussian and IID.)\n",
    "# \n",
    "# Important Note: The data and uncertaintes returned by AZR have the normalization factor applied.\n",
    "# Inside the argument to the exponential, that's exactly what we want.\n",
    "# The pre-factor to the likelihood, however, must have the original, presumably unmodified, normalization.\n",
    "def lnL(theta):\n",
    "    output = azr.predict(theta)[0]\n",
    "    mu = output.xs_com_fit\n",
    "    y = output.xs_com_data\n",
    "    sigma = output.xs_err_com_data\n",
    "    return np.sum(-np.log(np.sqrt(2*np.pi)*sigma_default_norm) - 0.5*((y - mu)/sigma)**2)"
   ]
  },
  {
   "cell_type": "markdown",
   "metadata": {},
   "source": [
    "Finally, we can write the log(posterior) function as a sum of the log(prior) and log(likelihood) functions."
   ]
  },
  {
   "cell_type": "code",
   "execution_count": 42,
   "metadata": {},
   "outputs": [],
   "source": [
    "def lnP(theta):\n",
    "    lnpi = lnPi(theta)\n",
    "    # If any of the parameters fall outside of their prior distributions, go\n",
    "    # ahead and return -infinity . Don't bother running AZURE2 or risking\n",
    "    # calling it with a parameter value that will throw an error.\n",
    "    if lnpi == -np.inf:\n",
    "        return lnpi\n",
    "    return lnL(theta) + lnpi"
   ]
  },
  {
   "cell_type": "markdown",
   "metadata": {},
   "source": [
    "Now, we are prepared to do the sampling."
   ]
  },
  {
   "cell_type": "code",
   "execution_count": 48,
   "metadata": {},
   "outputs": [],
   "source": [
    "import os\n",
    "# Use the supported multithreading in emcee.\n",
    "from multiprocessing import Pool"
   ]
  },
  {
   "cell_type": "code",
   "execution_count": 50,
   "metadata": {},
   "outputs": [],
   "source": [
    "nw = 2*nd # number of walkers = 2 * number of sampled parameters\n",
    "\n",
    "# Pick a point (theta) in parameter space around which we'll start each walker.\n",
    "theta0 = [2.1, 2.37, 33600, -0.6325, 1, 1]\n",
    "# theta0 = np.array(model.azr.config.get_input_values())\n",
    "# theta0 = np.array([[pi.rvs() for pi in model.priors] for _ in range(nw)])\n",
    "\n",
    "# Each walker needs its own starting position. We'll take normally distributed\n",
    "# random values centered at theta0.\n",
    "p0 = np.zeros((nw, nd))\n",
    "\n",
    "mask = np.array([0.01, 0.0001, 0.01, 0.01, 0.01, 0.01]) # Widths of the Gaussians can be different.\n",
    "for i in range(nw):\n",
    "    mu = theta0\n",
    "    sig = np.abs(theta0) * mask\n",
    "    p0[i, :] = stats.norm(mu, sig).rvs()"
   ]
  },
  {
   "cell_type": "code",
   "execution_count": 52,
   "metadata": {},
   "outputs": [
    {
     "name": "stderr",
     "output_type": "stream",
     "text": [
      "100%|██████████| 10/10 [00:27<00:00,  2.78s/it]\n"
     ]
    }
   ],
   "source": [
    "# We'll store the chain in chain.h5. (See emcee Backends documentation.)\n",
    "backend = emcee.backends.HDFBackend('chain.h5')\n",
    "backend.reset(nw, nd)\n",
    "\n",
    "nsteps = 10 # How many saved steps should each walker make?\n",
    "nthin = 1 # How often should the walker save a step? n_total = nsteps * nthin\n",
    "nprocs = nw # How many Python processes do you want to allocate?\n",
    "\n",
    "# AZURE2 and emcee are both parallelized. We'll restrict AZURE2 to 1 thread to\n",
    "# simplify things.\n",
    "os.environ['OMP_NUM_THREADS'] = '1'\n",
    "\n",
    "# emcee allows the user to specify the way the ensemble generates proposals.\n",
    "with Pool(processes=nprocs) as pool:\n",
    "    sampler = emcee.EnsembleSampler(nw, nd, lnP, pool=pool, backend=backend)\n",
    "    state = sampler.run_mcmc(p0, nsteps, thin_by=nthin, progress=True, tune=True)"
   ]
  },
  {
   "cell_type": "markdown",
   "metadata": {},
   "source": [
    "This was only 10 steps. You are going to need more – a _lot_ more – if you want to obtain a significant number of independent samples. For this, I point you to `emcee`'s excellent documentation on [Autocorrelation Analysis & Convergence](https://emcee.readthedocs.io/en/stable/tutorials/autocorr/).\n",
    "\n",
    "Happy sampling."
   ]
  },
  {
   "cell_type": "code",
   "execution_count": null,
   "metadata": {},
   "outputs": [],
   "source": []
  }
 ],
 "metadata": {
  "kernelspec": {
   "display_name": "Python 3",
   "language": "python",
   "name": "python3"
  },
  "language_info": {
   "codemirror_mode": {
    "name": "ipython",
    "version": 3
   },
   "file_extension": ".py",
   "mimetype": "text/x-python",
   "name": "python",
   "nbconvert_exporter": "python",
   "pygments_lexer": "ipython3",
   "version": "3.7.4"
  }
 },
 "nbformat": 4,
 "nbformat_minor": 2
}
